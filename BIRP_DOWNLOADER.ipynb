{
  "nbformat": 4,
  "nbformat_minor": 0,
  "metadata": {
    "colab": {
      "provenance": [],
      "authorship_tag": "ABX9TyP5sXJkUgdgragBGMNWrUbW",
      "include_colab_link": true
    },
    "kernelspec": {
      "name": "python3",
      "display_name": "Python 3"
    },
    "language_info": {
      "name": "python"
    }
  },
  "cells": [
    {
      "cell_type": "markdown",
      "metadata": {
        "id": "view-in-github",
        "colab_type": "text"
      },
      "source": [
        "<a href=\"https://colab.research.google.com/github/taikutsu91/Git-Treino/blob/master/BIRP_DOWNLOADER.ipynb\" target=\"_parent\"><img src=\"https://colab.research.google.com/assets/colab-badge.svg\" alt=\"Open In Colab\"/></a>"
      ]
    },
    {
      "cell_type": "code",
      "source": [
        "!python3 -m pip install mutagen"
      ],
      "metadata": {
        "colab": {
          "base_uri": "https://localhost:8080/"
        },
        "id": "hK1n1l4slIqi",
        "outputId": "7de5e158-02f3-496b-f7b4-986291d56c55"
      },
      "execution_count": 1,
      "outputs": [
        {
          "output_type": "stream",
          "name": "stdout",
          "text": [
            "Looking in indexes: https://pypi.org/simple, https://us-python.pkg.dev/colab-wheels/public/simple/\n",
            "Collecting mutagen\n",
            "  Downloading mutagen-1.46.0-py3-none-any.whl (193 kB)\n",
            "\u001b[K     |████████████████████████████████| 193 kB 5.1 MB/s \n",
            "\u001b[?25hInstalling collected packages: mutagen\n",
            "Successfully installed mutagen-1.46.0\n"
          ]
        }
      ]
    },
    {
      "cell_type": "code",
      "source": [
        "!pip install humanfriendly"
      ],
      "metadata": {
        "colab": {
          "base_uri": "https://localhost:8080/"
        },
        "id": "f_ocOBKClbms",
        "outputId": "d886f095-d0b8-4622-d256-a666ed293ad1"
      },
      "execution_count": 2,
      "outputs": [
        {
          "output_type": "stream",
          "name": "stdout",
          "text": [
            "Looking in indexes: https://pypi.org/simple, https://us-python.pkg.dev/colab-wheels/public/simple/\n",
            "Collecting humanfriendly\n",
            "  Downloading humanfriendly-10.0-py2.py3-none-any.whl (86 kB)\n",
            "\u001b[K     |████████████████████████████████| 86 kB 3.4 MB/s \n",
            "\u001b[?25hInstalling collected packages: humanfriendly\n",
            "Successfully installed humanfriendly-10.0\n"
          ]
        }
      ]
    },
    {
      "cell_type": "code",
      "execution_count": 3,
      "metadata": {
        "id": "lmpHudh3hlEY"
      },
      "outputs": [],
      "source": [
        "import os\n",
        "import shutil\n",
        "from bs4 import BeautifulSoup\n",
        "import requests\n",
        "import time\n",
        "import re\n",
        "from urllib.parse import urljoin\n",
        "from mutagen.mp3 import MP3\n",
        "from humanfriendly import format_timespan"
      ]
    },
    {
      "cell_type": "code",
      "source": [
        "YEAR, MONTH = '2020', 'august'"
      ],
      "metadata": {
        "id": "Vul_llEal63p"
      },
      "execution_count": 4,
      "outputs": []
    },
    {
      "cell_type": "code",
      "source": [
        "DOWNLOAD_LINK = 'https://d1e5xmqmk0w5rl.cloudfront.net/playlists/'\n",
        "\n",
        "def get_songs_url():\n",
        "    URL = f'https://www.birp.fm/playlist/{YEAR}/{MONTH}-{YEAR}'\n",
        "    r = requests.get(URL)\n",
        "    soup = BeautifulSoup(r.text, 'lxml')\n",
        "    if r.ok:\n",
        "      songs_url = soup.find_all(\"div\", attrs={\"class\": \"track-playbutton\"})\n",
        "      ok_urls = []\n",
        "      bad_urls = []\n",
        "      urls = []\n",
        "      songs_not_clean = []\n",
        "      for i in songs_url:\n",
        "        link = urljoin(DOWNLOAD_LINK, i.get('id'))\n",
        "        songs_not_clean.append(i.get('id'))\n",
        "        urls.append(link)\n",
        "        r = requests.get(link)\n",
        "        if r.ok:\n",
        "          ok_urls.append(link)\n",
        "        else:\n",
        "          bad_urls.append(link)\n",
        "    return ok_urls, bad_urls, urls, songs_not_clean\n",
        "\n",
        "def get_indexes(bad_songs, good_songs, urls):\n",
        "    idx_bad = [urls.index(idx) for idx in bad_songs]\n",
        "    idx_good = [urls.index(idx) for idx in good_songs]\n",
        "\n",
        "    return idx_bad, idx_good\n",
        "\n",
        "def idx_songs(idx_bad, idx_good, songs_list):\n",
        "  good_song = [songs_list[idx] for idx in idx_good]\n",
        "  bad_songs = [songs_list[idx] for idx in idx_bad]\n",
        "  return good_song, bad_songs\n",
        "\n",
        "def get_song_name(YEAR, MONTH):\n",
        "    url = f\"https://www.birp.fm/playlist/{YEAR}/{MONTH}-{YEAR}\"\n",
        "    try:\n",
        "        r = requests.get(url)\n",
        "        soup = BeautifulSoup(r.text, 'lxml')\n",
        "        title = soup.find_all('span', attrs={'class':'song-title'})\n",
        "        artist = soup.find_all('span', attrs={'class':'song-artist'})\n",
        "        title = [x.text for x in title]\n",
        "        artist = [x.text for x in artist]\n",
        "        clean_artist= [re.sub(r'[^a-zA-Z0-9 ]', '', i) for i in artist]\n",
        "        clean_title = [re.sub(r'[^a-zA-Z0-9 ]', '', i) for i in title]\n",
        "        full_song = [f'{val+1:03} - {x} - {y}' for val, (x, y) in enumerate(zip(clean_artist, clean_title))]\n",
        "        return full_song\n",
        "    except Exception as e:\n",
        "        print(e)\n",
        "\n",
        "def creater_folder():\n",
        "    folder_name = os.path.join('/content', f'Various Artists - BIRP! {MONTH.capitalize()} {YEAR}')\n",
        "    if not os.path.exists(folder_name):\n",
        "        os.mkdir(folder_name)\n",
        "    return os.path.abspath(folder_name)\n",
        "\n",
        "def song_download(songs_url, songs_name):\n",
        "    os.chdir(PATH)\n",
        "    global URLS\n",
        "    for url, song in zip(songs_url, songs_name):\n",
        "        time.sleep(1)\n",
        "        music = requests.get(url)\n",
        "        with open(f\"{song}.mp3\", 'wb') as f:\n",
        "            f.write(music.content)\n",
        "        print(f'Downloading {song}...')\n",
        "    print(f'Download {len(songs_url)}/{len(URLS)}')\n",
        "\n",
        "def download_album_cover():\n",
        "  os.chdir(PATH)\n",
        "  img_data = requests.get(f'https://www.birp.fm/images/albumart/{MONTH}{YEAR}.jpg').content\n",
        "  with open('albumcover.jpg', 'wb') as img:\n",
        "    img.write(img_data)\n",
        "\n",
        "def get_external_link():\n",
        "    os.chdir(PATH)\n",
        "    url = f\"https://www.birp.fm/playlist/{YEAR}/{MONTH}-{YEAR}\"\n",
        "    r = requests.get(url)\n",
        "    soup = BeautifulSoup(r.text, 'lxml')\n",
        "    data = soup.findAll(class_='playlist-options')\n",
        "    links = []\n",
        "    nome = []\n",
        "    for a in data[0].findAll(attrs={'class':\"btn playlist-btn\"}):\n",
        "      links.append(a.get('href'))\n",
        "      nome.append(a.text)\n",
        "    for idx, i  in enumerate(links):\n",
        "        if i.endswith('.torrent'):\n",
        "          a =  urljoin('https://www.birp.fm', i.replace(' ', '%20'))\n",
        "          links[idx] = a\n",
        "    correto = [f\"{n}: {l}\" for  n, l in zip(nome, links)]\n",
        "    correto = correto[1::]\n",
        "    with open(f\"External Links BIRP! {MONTH.capitalize()} {YEAR}.txt\", 'w') as f:\n",
        "      f.write(f'External Links Various Artists - BIRP! {MONTH.capitalize()} {YEAR}')\n",
        "      f.write('\\n')\n",
        "      for line in correto:\n",
        "        f.write(line+\"\\n\")\n",
        "\n",
        "def text_bad_songs(bad_songs, ok_songs):\n",
        "    os.chdir(PATH)\n",
        "    soma_sec = 0\n",
        "    pct = (len(ok_songs)/(len(bad_songs) + len(ok_songs))) * 100\n",
        "    for i in os.listdir():\n",
        "        if i.endswith('mp3'):\n",
        "            soma_sec+= MP3(i).info.length\n",
        "    with open(f'BIRP! {MONTH.capitalize()} {YEAR}.txt', 'w') as f:\n",
        "        f.write(f\"BIRP! {MONTH.capitalize()} {YEAR}\" + '\\n' + '\\n')\n",
        "        f.write('Follow BIRP!' + '\\n')\n",
        "        f.write('YOUTUBE: https://www.youtube.com/channel/UC-HHJWCzskrsPdEjYulBg4w' + '\\n')\n",
        "        f.write('TWITTER: https://twitter.com/birp' + '\\n')\n",
        "        f.write('SPOTIFY: https://open.spotify.com/user/1217281510' + '\\n')\n",
        "        f.write('FACEBOOK: https://www.facebook.com/birp.fm' + '\\n')\n",
        "        f.write('SOUNDCLOUD: https://soundcloud.com/birp' + '\\n')\n",
        "        f.write('INSTAGRAM: https://www.instagram.com/birpfm/' + '\\n' + '\\n')\n",
        "        f.write(f\"Downloaed {len(ok_songs)} songs...\" + '\\n')\n",
        "        f.write(f'{len(ok_songs)}/{(len(bad_songs) + len(ok_songs))}' + '\\n')\n",
        "        f.write(f'Downloaed {pct:.2f}%' + '\\n')\n",
        "        f.write(f'Album lenght is {format_timespan(soma_sec, max_units=2)}' + '\\n')\n",
        "        f.write(f\"{len(bad_songs)} songs are not availiable to download\" + '\\n' + '\\n')\n",
        "        for line in bad_songs:\n",
        "            f.write(''.join(line.split('/')[2::]))\n",
        "            f.write('\\n')"
      ],
      "metadata": {
        "id": "sWPFKBtAl2ZK"
      },
      "execution_count": 6,
      "outputs": []
    },
    {
      "cell_type": "code",
      "source": [
        "shutil.make_archive(PATH, 'zip', PATH)"
      ],
      "metadata": {
        "colab": {
          "base_uri": "https://localhost:8080/",
          "height": 35
        },
        "id": "FzqOgALE0Iyi",
        "outputId": "00139f15-8d86-45a0-da4a-a24fe046a34d"
      },
      "execution_count": null,
      "outputs": [
        {
          "output_type": "execute_result",
          "data": {
            "text/plain": [
              "'/content/Various Artists - BIRP! August 2010.zip'"
            ],
            "application/vnd.google.colaboratory.intrinsic+json": {
              "type": "string"
            }
          },
          "metadata": {},
          "execution_count": 16
        }
      ]
    },
    {
      "cell_type": "code",
      "source": [
        "PATH"
      ],
      "metadata": {
        "colab": {
          "base_uri": "https://localhost:8080/",
          "height": 35
        },
        "id": "iiz_9iedcW5i",
        "outputId": "67a9795d-f2ff-4515-f3ff-f4808eb552e9"
      },
      "execution_count": 8,
      "outputs": [
        {
          "output_type": "execute_result",
          "data": {
            "text/plain": [
              "'/content/Various Artists - BIRP! August 2020'"
            ],
            "application/vnd.google.colaboratory.intrinsic+json": {
              "type": "string"
            }
          },
          "metadata": {},
          "execution_count": 8
        }
      ]
    }
  ]
}